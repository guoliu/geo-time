{
 "cells": [
  {
   "cell_type": "code",
   "execution_count": 1,
   "metadata": {
    "collapsed": false
   },
   "outputs": [],
   "source": [
    "import pandas as pd\n",
    "import numpy as np"
   ]
  },
  {
   "cell_type": "code",
   "execution_count": 2,
   "metadata": {
    "collapsed": false
   },
   "outputs": [],
   "source": [
    "### emission data\n",
    "# http://cdiac.ornl.gov/ftp/ndp030/CSV-FILES/\n",
    "raw = pd.read_excel('indicator CDIAC carbon_dioxide_cumulative_emissions.xlsx')\n",
    "raw = raw[raw.iloc[:,1:].any(axis=1)]\n",
    "raw.rename(columns={'CO2 emissions from fossil-fuels since 1751 (metric tons)':'name'}, inplace=True)"
   ]
  },
  {
   "cell_type": "code",
   "execution_count": 3,
   "metadata": {
    "collapsed": false
   },
   "outputs": [
    {
     "data": {
      "text/plain": [
       "45"
      ]
     },
     "execution_count": 3,
     "metadata": {},
     "output_type": "execute_result"
    }
   ],
   "source": [
    "import pycountry\n",
    "def rename(s):\n",
    "    try:\n",
    "        numeric_id=pycountry.countries.get(name=s).numeric\n",
    "    except:\n",
    "        numeric_id = None\n",
    "    return numeric_id\n",
    "\n",
    "raw['name'].map(rename).isnull().sum()"
   ]
  },
  {
   "cell_type": "code",
   "execution_count": 4,
   "metadata": {
    "collapsed": false
   },
   "outputs": [],
   "source": [
    "pop = pd.read_csv('population.csv',skiprows=3)[['Country Name','Country Code','2014']]\n",
    "pop.columns = ['Country Name','Country Code','population']"
   ]
  },
  {
   "cell_type": "code",
   "execution_count": 5,
   "metadata": {
    "collapsed": false
   },
   "outputs": [],
   "source": [
    "def get_id(s):\n",
    "    #s = \"{0:0>3}\".format(n)\n",
    "    try:\n",
    "        numeric_id=int(pycountry.countries.get(alpha3=s).numeric)\n",
    "    except:\n",
    "        numeric_id = -1\n",
    "    return numeric_id\n",
    "\n",
    "pop['id'] = pop['Country Code'].map(get_id)\n",
    "pop = pop[pop['id']!=-1]"
   ]
  },
  {
   "cell_type": "code",
   "execution_count": 6,
   "metadata": {
    "collapsed": false
   },
   "outputs": [],
   "source": [
    "area = pd.read_csv('area.csv',skiprows=3)[['Country Name','Country Code','2015']]\n",
    "area.columns = ['Country Name','Country Code','area']\n",
    "area['id'] = area['Country Code'].map(get_id)\n",
    "area = area[area['id']!=-1]"
   ]
  },
  {
   "cell_type": "code",
   "execution_count": 7,
   "metadata": {
    "collapsed": false
   },
   "outputs": [],
   "source": [
    "nm_df = pd.read_table('world-country-names.tsv')\n",
    "nm_dic = {'Bolivia, Plurinational State of': 'Bolivia',\n",
    "          'Virgin Islands, British': 'British Virgin Islands',\n",
    "          'Brunei Darussalam': 'Brunei',\n",
    "          'Congo': 'Congo, Rep.',\n",
    "          'Congo, the Democratic Republic of the': 'Congo, Dem. Rep.',\n",
    "          'Cook Islands': 'Cook Is',\n",
    "          \"Côte d'Ivoire\": \"Cote d'Ivoire\",\n",
    "          'Faroe Islands': 'Faeroe Islands',\n",
    "          'Falkland Islands (Malvinas)': 'Falkland Is (Malvinas)',\n",
    "          'Hong Kong': 'Hong Kong, China',\n",
    "          'Iran, Islamic Republic of': 'Iran',\n",
    "          \"Korea, Democratic People's Republic of\": 'North Korea',\n",
    "          'Korea, Republic of': 'South Korea',\n",
    "          'Kyrgyzstan': 'Kyrgyz Republic',\n",
    "          \"Lao People's Democratic Republic\": \"Lao\",\n",
    "          'Macao': 'Macao, China',\n",
    "          'Macedonia, the former Yugoslav Republic of': 'Macedonia, FYR',\n",
    "          'Micronesia, Federated States of': 'Micronesia, Fed. Sts.',\n",
    "          'Moldova, Republic of': 'Moldova',\n",
    "          'Réunion': 'Reunion',\n",
    "          'Russian Federation': 'Russia',\n",
    "          'Saint Helena, Ascension and Tristan da Cunha': 'St. Helena',\n",
    "          'Saint Kitts and Nevis': 'St. Kitts and Nevis',\n",
    "          'Saint Lucia': 'St. Lucia',\n",
    "          'Saint Vincent and the Grenadines': 'St. Vincent and the Grenadines',\n",
    "          'Saint Pierre and Miquelon': 'St.-Pierre-et-Miquelon',\n",
    "          'Slovakia': 'Slovak Republic',\n",
    "          'Syrian Arab Republic': 'Syria',\n",
    "          'Taiwan, Province of China': 'Taiwan',\n",
    "          'Tanzania, United Republic of': 'Tanzania',\n",
    "          'Wallis and Futuna': 'Wallis et Futuna',\n",
    "          'Venezuela': 'Venezuela, Bolivarian Republic of',\n",
    "          'Viet Nam': 'Vietnam',\n",
    "          'Bonaire, Sint Eustatius and Saba': 'Saba'}\n",
    "\n",
    "nm_df['name'] = nm_df['name'].map(lambda s: nm_dic[s] if s in nm_dic.keys() else s)"
   ]
  },
  {
   "cell_type": "code",
   "execution_count": 8,
   "metadata": {
    "collapsed": false
   },
   "outputs": [],
   "source": [
    "nm_df = nm_df.merge(pop[['id','population']], how='left', left_on='id', right_on='id')\n",
    "nm_df = nm_df.merge(area[['id','area']], how='left', left_on='id', right_on='id')"
   ]
  },
  {
   "cell_type": "code",
   "execution_count": 9,
   "metadata": {
    "collapsed": false
   },
   "outputs": [],
   "source": [
    "df = nm_df.merge(raw, how='left', left_on='name', right_on='name')"
   ]
  },
  {
   "cell_type": "code",
   "execution_count": 10,
   "metadata": {
    "collapsed": false
   },
   "outputs": [],
   "source": [
    "df[['population','area']] = df[['population','area']].fillna(-1)"
   ]
  },
  {
   "cell_type": "code",
   "execution_count": 14,
   "metadata": {
    "collapsed": false
   },
   "outputs": [
    {
     "data": {
      "text/html": [
       "<div>\n",
       "<table border=\"1\" class=\"dataframe\">\n",
       "  <thead>\n",
       "    <tr style=\"text-align: right;\">\n",
       "      <th></th>\n",
       "      <th>id</th>\n",
       "      <th>name</th>\n",
       "      <th>population</th>\n",
       "      <th>area</th>\n",
       "      <th>1751</th>\n",
       "      <th>1755</th>\n",
       "      <th>1760</th>\n",
       "      <th>1765</th>\n",
       "      <th>1770</th>\n",
       "      <th>1775</th>\n",
       "      <th>...</th>\n",
       "      <th>2002</th>\n",
       "      <th>2003</th>\n",
       "      <th>2004</th>\n",
       "      <th>2005</th>\n",
       "      <th>2006</th>\n",
       "      <th>2007</th>\n",
       "      <th>2008</th>\n",
       "      <th>2009</th>\n",
       "      <th>2010</th>\n",
       "      <th>2011</th>\n",
       "    </tr>\n",
       "  </thead>\n",
       "  <tbody>\n",
       "    <tr>\n",
       "      <th>46</th>\n",
       "      <td>156</td>\n",
       "      <td>China</td>\n",
       "      <td>1.364270e+09</td>\n",
       "      <td>9388211.0</td>\n",
       "      <td>NaN</td>\n",
       "      <td>NaN</td>\n",
       "      <td>NaN</td>\n",
       "      <td>NaN</td>\n",
       "      <td>NaN</td>\n",
       "      <td>NaN</td>\n",
       "      <td>...</td>\n",
       "      <td>8.073819e+10</td>\n",
       "      <td>8.526295e+10</td>\n",
       "      <td>9.055064e+10</td>\n",
       "      <td>9.634013e+10</td>\n",
       "      <td>1.027540e+11</td>\n",
       "      <td>1.095452e+11</td>\n",
       "      <td>1.165823e+11</td>\n",
       "      <td>1.242687e+11</td>\n",
       "      <td>1.325564e+11</td>\n",
       "      <td>1.416674e+11</td>\n",
       "    </tr>\n",
       "  </tbody>\n",
       "</table>\n",
       "<p>1 rows × 242 columns</p>\n",
       "</div>"
      ],
      "text/plain": [
       "     id   name    population       area  1751  1755  1760  1765  1770  1775  \\\n",
       "46  156  China  1.364270e+09  9388211.0   NaN   NaN   NaN   NaN   NaN   NaN   \n",
       "\n",
       "        ...               2002          2003          2004          2005  \\\n",
       "46      ...       8.073819e+10  8.526295e+10  9.055064e+10  9.634013e+10   \n",
       "\n",
       "            2006          2007          2008          2009          2010  \\\n",
       "46  1.027540e+11  1.095452e+11  1.165823e+11  1.242687e+11  1.325564e+11   \n",
       "\n",
       "            2011  \n",
       "46  1.416674e+11  \n",
       "\n",
       "[1 rows x 242 columns]"
      ]
     },
     "execution_count": 14,
     "metadata": {},
     "output_type": "execute_result"
    }
   ],
   "source": [
    "df[df['name']=='China']"
   ]
  },
  {
   "cell_type": "code",
   "execution_count": 11,
   "metadata": {
    "collapsed": false
   },
   "outputs": [],
   "source": [
    "data_dict = []\n",
    "\n",
    "for idx, row in df.iterrows():\n",
    "    datum = {}\n",
    "    datum['id'] = row['id']\n",
    "    datum['name'] = row['name']\n",
    "    datum['population'] = row['population']\n",
    "    datum['area'] = row['area']\n",
    "    data = row.iloc[4:].dropna()\n",
    "    if data.any():\n",
    "        cumulative = {}\n",
    "        annual = {}\n",
    "        \n",
    "        last = 0\n",
    "        for year in data.index:\n",
    "            current = data[year]\n",
    "            cumulative[year] = current\n",
    "            if current - last:\n",
    "                annual[year] = current - last\n",
    "            last = current\n",
    "        datum['annual'] = annual\n",
    "        datum['cumulative'] = cumulative\n",
    "    data_dict.append(datum)"
   ]
  },
  {
   "cell_type": "code",
   "execution_count": 12,
   "metadata": {
    "collapsed": false
   },
   "outputs": [],
   "source": [
    "import json\n",
    "with open('emission.json', 'w') as outfile:\n",
    "    json.dump(data_dict, outfile)"
   ]
  },
  {
   "cell_type": "code",
   "execution_count": null,
   "metadata": {
    "collapsed": true
   },
   "outputs": [],
   "source": []
  }
 ],
 "metadata": {
  "kernelspec": {
   "display_name": "Python 3",
   "language": "python",
   "name": "python3"
  },
  "language_info": {
   "codemirror_mode": {
    "name": "ipython",
    "version": 3
   },
   "file_extension": ".py",
   "mimetype": "text/x-python",
   "name": "python",
   "nbconvert_exporter": "python",
   "pygments_lexer": "ipython3",
   "version": "3.5.1"
  }
 },
 "nbformat": 4,
 "nbformat_minor": 0
}
