{
 "cells": [
  {
   "cell_type": "code",
   "execution_count": 16,
   "metadata": {
    "collapsed": false
   },
   "outputs": [],
   "source": [
    "import pandas as pd\n",
    "import numpy as np"
   ]
  },
  {
   "cell_type": "code",
   "execution_count": 17,
   "metadata": {
    "collapsed": false
   },
   "outputs": [],
   "source": [
    "### emission data\n",
    "# http://cdiac.ornl.gov/ftp/ndp030/CSV-FILES/\n",
    "raw = pd.read_excel('indicator CDIAC carbon_dioxide_cumulative_emissions.xlsx')\n",
    "raw = raw[raw.iloc[:,1:].any(axis=1)]\n",
    "raw.rename(columns={'CO2 emissions from fossil-fuels since 1751 (metric tons)':'name'}, inplace=True)"
   ]
  },
  {
   "cell_type": "code",
   "execution_count": 18,
   "metadata": {
    "collapsed": false
   },
   "outputs": [
    {
     "data": {
      "text/plain": [
       "45"
      ]
     },
     "execution_count": 18,
     "metadata": {},
     "output_type": "execute_result"
    }
   ],
   "source": [
    "import pycountry\n",
    "def rename(s):\n",
    "    try:\n",
    "        numeric_id=pycountry.countries.get(name=s).numeric\n",
    "    except:\n",
    "        numeric_id = None\n",
    "    return numeric_id\n",
    "\n",
    "raw['name'].map(rename).isnull().sum()"
   ]
  },
  {
   "cell_type": "code",
   "execution_count": 19,
   "metadata": {
    "collapsed": false
   },
   "outputs": [],
   "source": [
    "pop = pd.read_csv('population.csv',skiprows=3)[['Country Name','Country Code','2014']]\n",
    "pop.columns = ['Country Name','Country Code','population']"
   ]
  },
  {
   "cell_type": "code",
   "execution_count": 20,
   "metadata": {
    "collapsed": false
   },
   "outputs": [],
   "source": [
    "def get_id(s):\n",
    "    #s = \"{0:0>3}\".format(n)\n",
    "    try:\n",
    "        numeric_id=int(pycountry.countries.get(alpha3=s).numeric)\n",
    "    except:\n",
    "        numeric_id = -1\n",
    "    return numeric_id\n",
    "\n",
    "pop['id'] = pop['Country Code'].map(get_id)\n",
    "pop = pop[pop['id']!=-1]"
   ]
  },
  {
   "cell_type": "code",
   "execution_count": 21,
   "metadata": {
    "collapsed": false
   },
   "outputs": [],
   "source": [
    "area = pd.read_csv('area.csv',skiprows=3)[['Country Name','Country Code','2015']]\n",
    "area.columns = ['Country Name','Country Code','area']\n",
    "area['id'] = area['Country Code'].map(get_id)\n",
    "area = area[area['id']!=-1]"
   ]
  },
  {
   "cell_type": "code",
   "execution_count": 22,
   "metadata": {
    "collapsed": false
   },
   "outputs": [],
   "source": [
    "nm_df = pd.read_table('world-country-names.tsv')\n",
    "nm_dic = {'Bolivia, Plurinational State of': 'Bolivia',\n",
    "          'Virgin Islands, British': 'British Virgin Islands',\n",
    "          'Brunei Darussalam': 'Brunei',\n",
    "          'Congo': 'Congo, Rep.',\n",
    "          'Congo, the Democratic Republic of the': 'Congo, Dem. Rep.',\n",
    "          'Cook Islands': 'Cook Is',\n",
    "          \"Côte d'Ivoire\": \"Cote d'Ivoire\",\n",
    "          'Faroe Islands': 'Faeroe Islands',\n",
    "          'Falkland Islands (Malvinas)': 'Falkland Is (Malvinas)',\n",
    "          'Hong Kong': 'Hong Kong, China',\n",
    "          'Iran, Islamic Republic of': 'Iran',\n",
    "          \"Korea, Democratic People's Republic of\": 'North Korea',\n",
    "          'Korea, Republic of': 'South Korea',\n",
    "          'Kyrgyzstan': 'Kyrgyz Republic',\n",
    "          \"Lao People's Democratic Republic\": \"Lao\",\n",
    "          'Macao': 'Macao, China',\n",
    "          'Macedonia, the former Yugoslav Republic of': 'Macedonia, FYR',\n",
    "          'Micronesia, Federated States of': 'Micronesia, Fed. Sts.',\n",
    "          'Moldova, Republic of': 'Moldova',\n",
    "          'Réunion': 'Reunion',\n",
    "          'Russian Federation': 'Russia',\n",
    "          'Saint Helena, Ascension and Tristan da Cunha': 'St. Helena',\n",
    "          'Saint Kitts and Nevis': 'St. Kitts and Nevis',\n",
    "          'Saint Lucia': 'St. Lucia',\n",
    "          'Saint Vincent and the Grenadines': 'St. Vincent and the Grenadines',\n",
    "          'Saint Pierre and Miquelon': 'St.-Pierre-et-Miquelon',\n",
    "          'Slovakia': 'Slovak Republic',\n",
    "          'Syrian Arab Republic': 'Syria',\n",
    "          'Taiwan, Province of China': 'Taiwan',\n",
    "          'Tanzania, United Republic of': 'Tanzania',\n",
    "          'Wallis and Futuna': 'Wallis et Futuna',\n",
    "          'Venezuela': 'Venezuela, Bolivarian Republic of',\n",
    "          'Viet Nam': 'Vietnam',\n",
    "          'Bonaire, Sint Eustatius and Saba': 'Saba'}\n",
    "\n",
    "nm_df['name'] = nm_df['name'].map(lambda s: nm_dic[s] if s in nm_dic.keys() else s)"
   ]
  },
  {
   "cell_type": "code",
   "execution_count": 23,
   "metadata": {
    "collapsed": false
   },
   "outputs": [],
   "source": [
    "nm_df = nm_df.merge(pop[['id','population']], how='left', left_on='id', right_on='id')\n",
    "nm_df = nm_df.merge(area[['id','area']], how='left', left_on='id', right_on='id')"
   ]
  },
  {
   "cell_type": "code",
   "execution_count": 24,
   "metadata": {
    "collapsed": false
   },
   "outputs": [],
   "source": [
    "df = nm_df.merge(raw, how='left', left_on='name', right_on='name')"
   ]
  },
  {
   "cell_type": "code",
   "execution_count": 25,
   "metadata": {
    "collapsed": false
   },
   "outputs": [],
   "source": [
    "df[['population','area']] = df[['population','area']].fillna(-1)"
   ]
  },
  {
   "cell_type": "code",
   "execution_count": 36,
   "metadata": {
    "collapsed": false
   },
   "outputs": [],
   "source": [
    "data_dict = []\n",
    "\n",
    "for idx, row in df.iterrows():\n",
    "    datum = {}\n",
    "    datum['id'] = row['id']\n",
    "    datum['name'] = row['name']\n",
    "    datum['population'] = row['population']\n",
    "    datum['area'] = row['area']\n",
    "    data = row.iloc[4:].dropna()\n",
    "    if data.any():\n",
    "        cumulative = {}\n",
    "        annual = {}\n",
    "        \n",
    "        last = 0\n",
    "        for year in data.index:\n",
    "            current = data[year]\n",
    "            cumulative[year] = current\n",
    "            if current - last:\n",
    "                annual[year] = current - last\n",
    "            last = current\n",
    "        datum['annual'] = annual\n",
    "        datum['cumulative'] = cumulative\n",
    "    data_dict.append(datum)"
   ]
  },
  {
   "cell_type": "code",
   "execution_count": 38,
   "metadata": {
    "collapsed": false
   },
   "outputs": [],
   "source": [
    "import json\n",
    "with open('emission.json', 'w') as outfile:\n",
    "    json.dump(data_dict, outfile)"
   ]
  },
  {
   "cell_type": "code",
   "execution_count": null,
   "metadata": {
    "collapsed": true
   },
   "outputs": [],
   "source": []
  }
 ],
 "metadata": {
  "kernelspec": {
   "display_name": "Python 3",
   "language": "python",
   "name": "python3"
  },
  "language_info": {
   "codemirror_mode": {
    "name": "ipython",
    "version": 3
   },
   "file_extension": ".py",
   "mimetype": "text/x-python",
   "name": "python",
   "nbconvert_exporter": "python",
   "pygments_lexer": "ipython3",
   "version": "3.5.1"
  }
 },
 "nbformat": 4,
 "nbformat_minor": 0
}
